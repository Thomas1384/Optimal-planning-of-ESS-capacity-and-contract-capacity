{
 "cells": [
  {
   "cell_type": "code",
   "execution_count": null,
   "metadata": {},
   "outputs": [],
   "source": [
    "from datetime import *\n",
    "import pandas as pd\n",
    "import numpy as np\n",
    "import random\n",
    "import time\n",
    "import csv\n",
    "import os\n",
    "\n",
    "def get_ASS_time():\n",
    "    ASS_prob = [0.03,0.06,0.12,0.15,0.27,0.06,0.21,0.09]\n",
    "    # 產生有機率(cdf)性質的隨機變數\n",
    "    U = random.uniform(0,sum(ASS_prob))\n",
    "    n = 0\n",
    "    value = 0\n",
    "    while True:\n",
    "        value += ASS_prob[n]\n",
    "        n += 1\n",
    "        if value > U:\n",
    "            n -= 1\n",
    "            break\n",
    "    ASS_prob_time = [\"13:11\",\"14:15\",\"15:35\",\"16:21\",\"17:41\",\"17:43\",\"17:50\",\"18:06\"]\n",
    "    return ASS_prob_time[n]\n",
    "\n",
    "def get_ASS_date():\n",
    "    # 設定起始日期和結束日期\n",
    "    start_date = datetime(2021, 1, 1)\n",
    "    end_date = datetime(2022, 12, 31)\n",
    "\n",
    "    # 產生一個隨機的時間差值\n",
    "    time_delta = end_date - start_date\n",
    "\n",
    "    # 隨機生成日期\n",
    "    random_date = random_date = (start_date + timedelta(days=random.randint(0, time_delta.days))).date()\n",
    "    return random_date\n",
    "\n",
    "out_df = {\n",
    "    'ASS_date':[str(get_ASS_date()) for i in range(35)],\n",
    "    'ASS_time':[str(get_ASS_time()) for i in range(35)]\n",
    "}\n",
    "sorted_df = pd.DataFrame(out_df).sort_values('ASS_date')\n",
    "sorted_df.to_csv('ASS_time_random.csv', index=False)\n",
    "sorted_df"
   ]
  },
  {
   "cell_type": "code",
   "execution_count": 1,
   "metadata": {},
   "outputs": [
    {
     "data": {
      "text/html": [
       "<div>\n",
       "<style scoped>\n",
       "    .dataframe tbody tr th:only-of-type {\n",
       "        vertical-align: middle;\n",
       "    }\n",
       "\n",
       "    .dataframe tbody tr th {\n",
       "        vertical-align: top;\n",
       "    }\n",
       "\n",
       "    .dataframe thead th {\n",
       "        text-align: right;\n",
       "    }\n",
       "</style>\n",
       "<table border=\"1\" class=\"dataframe\">\n",
       "  <thead>\n",
       "    <tr style=\"text-align: right;\">\n",
       "      <th></th>\n",
       "      <th>type</th>\n",
       "      <th>0</th>\n",
       "      <th>1</th>\n",
       "      <th>2</th>\n",
       "      <th>3</th>\n",
       "      <th>4</th>\n",
       "      <th>5</th>\n",
       "      <th>6</th>\n",
       "      <th>7</th>\n",
       "      <th>8</th>\n",
       "      <th>...</th>\n",
       "      <th>14</th>\n",
       "      <th>15</th>\n",
       "      <th>16</th>\n",
       "      <th>17</th>\n",
       "      <th>18</th>\n",
       "      <th>19</th>\n",
       "      <th>20</th>\n",
       "      <th>21</th>\n",
       "      <th>22</th>\n",
       "      <th>23</th>\n",
       "    </tr>\n",
       "  </thead>\n",
       "  <tbody>\n",
       "    <tr>\n",
       "      <th>0</th>\n",
       "      <td>非夏月</td>\n",
       "      <td>1.66</td>\n",
       "      <td>1.66</td>\n",
       "      <td>1.66</td>\n",
       "      <td>1.66</td>\n",
       "      <td>1.66</td>\n",
       "      <td>1.66</td>\n",
       "      <td>3.82</td>\n",
       "      <td>3.82</td>\n",
       "      <td>3.82</td>\n",
       "      <td>...</td>\n",
       "      <td>3.82</td>\n",
       "      <td>3.82</td>\n",
       "      <td>3.82</td>\n",
       "      <td>3.82</td>\n",
       "      <td>3.82</td>\n",
       "      <td>3.82</td>\n",
       "      <td>3.82</td>\n",
       "      <td>3.82</td>\n",
       "      <td>3.82</td>\n",
       "      <td>3.82</td>\n",
       "    </tr>\n",
       "    <tr>\n",
       "      <th>1</th>\n",
       "      <td>夏月</td>\n",
       "      <td>1.83</td>\n",
       "      <td>1.83</td>\n",
       "      <td>1.83</td>\n",
       "      <td>1.83</td>\n",
       "      <td>1.83</td>\n",
       "      <td>1.83</td>\n",
       "      <td>1.83</td>\n",
       "      <td>1.83</td>\n",
       "      <td>1.83</td>\n",
       "      <td>...</td>\n",
       "      <td>4.08</td>\n",
       "      <td>4.08</td>\n",
       "      <td>6.58</td>\n",
       "      <td>6.58</td>\n",
       "      <td>6.58</td>\n",
       "      <td>6.58</td>\n",
       "      <td>6.58</td>\n",
       "      <td>6.58</td>\n",
       "      <td>4.08</td>\n",
       "      <td>4.08</td>\n",
       "    </tr>\n",
       "  </tbody>\n",
       "</table>\n",
       "<p>2 rows × 25 columns</p>\n",
       "</div>"
      ],
      "text/plain": [
       "  type     0     1     2     3     4     5     6     7     8  ...    14    15  \\\n",
       "0  非夏月  1.66  1.66  1.66  1.66  1.66  1.66  3.82  3.82  3.82  ...  3.82  3.82   \n",
       "1   夏月  1.83  1.83  1.83  1.83  1.83  1.83  1.83  1.83  1.83  ...  4.08  4.08   \n",
       "\n",
       "     16    17    18    19    20    21    22    23  \n",
       "0  3.82  3.82  3.82  3.82  3.82  3.82  3.82  3.82  \n",
       "1  6.58  6.58  6.58  6.58  6.58  6.58  4.08  4.08  \n",
       "\n",
       "[2 rows x 25 columns]"
      ]
     },
     "execution_count": 1,
     "metadata": {},
     "output_type": "execute_result"
    }
   ],
   "source": [
    "from datetime import *\n",
    "import pandas as pd\n",
    "import numpy as np\n",
    "import random\n",
    "import time\n",
    "import csv\n",
    "import os\n",
    "os.chdir(r'D:\\EPSLab_pc\\Thomas_碩論\\廠商提供')\n",
    "tou_data = pd.read_csv('tou_data.csv')\n",
    "nonsummer_tou = np.array(tou_data.iloc[0, 1:])\n",
    "summer_tou = np.array(tou_data.iloc[1, 1:])\n",
    "TOU_scenario = np.array([np.repeat(nonsummer_tou, 4)/4,np.repeat(summer_tou, 4)/4])\n",
    "tou_data"
   ]
  },
  {
   "cell_type": "code",
   "execution_count": null,
   "metadata": {},
   "outputs": [],
   "source": [
    "from datetime import *\n",
    "import pandas as pd\n",
    "import numpy as np\n",
    "import random\n",
    "import time\n",
    "import csv\n",
    "import os\n",
    "\n",
    "os.chdir(r'C:\\Users\\li303\\OneDrive - 國立成功大學 National Cheng Kung University\\桌面\\高港\\廠商提供')\n",
    "\n",
    "load_2021 = pd.read_excel('7櫃LOAD.xlsx', sheet_name='2021')\n",
    "load_2022 = pd.read_excel('7櫃LOAD.xlsx', sheet_name='2022')\n",
    "pv_2021 = pd.read_excel('7櫃LOAD.xlsx', sheet_name='pv2021')\n",
    "pv_2022 = pd.read_excel('7櫃LOAD.xlsx', sheet_name='pv2022')"
   ]
  },
  {
   "cell_type": "code",
   "execution_count": null,
   "metadata": {},
   "outputs": [],
   "source": [
    "load_2year = pd.concat([load_2021,load_2022], ignore_index=True)\n",
    "load_2year.to_csv('7櫃LOAD_2021-22.csv', encoding='utf-8_sig', index=False)"
   ]
  },
  {
   "cell_type": "code",
   "execution_count": null,
   "metadata": {},
   "outputs": [],
   "source": [
    "pv_2021 = pd.concat([pv_2022['time'], pv_2021], axis=1)\n",
    "pv_2021['time'] = pd.to_datetime(pv_2021['time'])\n",
    "pv_2021.set_index(pv_2021['time'], drop=True, inplace=True)\n",
    "pv_2021 = pv_2021.resample('15T').mean()\n",
    "\n",
    "pv_2022['time'] = pd.to_datetime(pv_2022['time'])\n",
    "pv_2022.set_index(pv_2022['time'], drop=True, inplace=True)\n",
    "pv_2022 = pv_2022.resample('15T').mean()\n",
    "\n",
    "pv_2year = pd.concat([pv_2021, pv_2022])"
   ]
  },
  {
   "cell_type": "code",
   "execution_count": null,
   "metadata": {},
   "outputs": [],
   "source": [
    "pv_2year_reshape = pd.DataFrame(np.reshape(list(pv_2year['pv']),(int(pv_2year.shape[0]/96),96)))\n",
    "pv_2year_reshape.set_index(load_2year['date'], drop=True, inplace=True)\n",
    "pv_2year_reshape.to_csv('7櫃PV_2021-22.csv', encoding='utf-8_sig', index=True)"
   ]
  },
  {
   "cell_type": "code",
   "execution_count": null,
   "metadata": {},
   "outputs": [],
   "source": [
    "load = pd.read_csv('7櫃LOAD_2021-22.csv')\n",
    "load"
   ]
  },
  {
   "cell_type": "code",
   "execution_count": null,
   "metadata": {},
   "outputs": [],
   "source": [
    "date_list = pd.read_csv('7櫃LOAD_2021-22.csv', usecols=['date'])\n",
    "date_list"
   ]
  },
  {
   "cell_type": "code",
   "execution_count": 1,
   "metadata": {},
   "outputs": [
    {
     "data": {
      "text/html": [
       "<div>\n",
       "<style scoped>\n",
       "    .dataframe tbody tr th:only-of-type {\n",
       "        vertical-align: middle;\n",
       "    }\n",
       "\n",
       "    .dataframe tbody tr th {\n",
       "        vertical-align: top;\n",
       "    }\n",
       "\n",
       "    .dataframe thead th {\n",
       "        text-align: right;\n",
       "    }\n",
       "</style>\n",
       "<table border=\"1\" class=\"dataframe\">\n",
       "  <thead>\n",
       "    <tr style=\"text-align: right;\">\n",
       "      <th></th>\n",
       "      <th>ASS_date</th>\n",
       "      <th>ASS_time</th>\n",
       "    </tr>\n",
       "    <tr>\n",
       "      <th>ASS_date</th>\n",
       "      <th></th>\n",
       "      <th></th>\n",
       "    </tr>\n",
       "  </thead>\n",
       "  <tbody>\n",
       "    <tr>\n",
       "      <th>2021-01-27</th>\n",
       "      <td>2021-01-27</td>\n",
       "      <td>17:41</td>\n",
       "    </tr>\n",
       "    <tr>\n",
       "      <th>2021-03-08</th>\n",
       "      <td>2021-03-08</td>\n",
       "      <td>17:41</td>\n",
       "    </tr>\n",
       "    <tr>\n",
       "      <th>2021-03-18</th>\n",
       "      <td>2021-03-18</td>\n",
       "      <td>18:06</td>\n",
       "    </tr>\n",
       "    <tr>\n",
       "      <th>2021-04-04</th>\n",
       "      <td>2021-04-04</td>\n",
       "      <td>15:35</td>\n",
       "    </tr>\n",
       "    <tr>\n",
       "      <th>2021-04-08</th>\n",
       "      <td>2021-04-08</td>\n",
       "      <td>17:50</td>\n",
       "    </tr>\n",
       "    <tr>\n",
       "      <th>2021-04-18</th>\n",
       "      <td>2021-04-18</td>\n",
       "      <td>17:50</td>\n",
       "    </tr>\n",
       "    <tr>\n",
       "      <th>2021-05-01</th>\n",
       "      <td>2021-05-01</td>\n",
       "      <td>16:21</td>\n",
       "    </tr>\n",
       "    <tr>\n",
       "      <th>2021-05-03</th>\n",
       "      <td>2021-05-03</td>\n",
       "      <td>15:35</td>\n",
       "    </tr>\n",
       "    <tr>\n",
       "      <th>2021-05-29</th>\n",
       "      <td>2021-05-29</td>\n",
       "      <td>17:41</td>\n",
       "    </tr>\n",
       "    <tr>\n",
       "      <th>2021-06-15</th>\n",
       "      <td>2021-06-15</td>\n",
       "      <td>15:35</td>\n",
       "    </tr>\n",
       "    <tr>\n",
       "      <th>2021-07-30</th>\n",
       "      <td>2021-07-30</td>\n",
       "      <td>17:41</td>\n",
       "    </tr>\n",
       "    <tr>\n",
       "      <th>2021-08-03</th>\n",
       "      <td>2021-08-03</td>\n",
       "      <td>14:15</td>\n",
       "    </tr>\n",
       "    <tr>\n",
       "      <th>2021-08-18</th>\n",
       "      <td>2021-08-18</td>\n",
       "      <td>14:15</td>\n",
       "    </tr>\n",
       "    <tr>\n",
       "      <th>2021-09-18</th>\n",
       "      <td>2021-09-18</td>\n",
       "      <td>17:41</td>\n",
       "    </tr>\n",
       "    <tr>\n",
       "      <th>2021-10-12</th>\n",
       "      <td>2021-10-12</td>\n",
       "      <td>14:15</td>\n",
       "    </tr>\n",
       "    <tr>\n",
       "      <th>2021-12-06</th>\n",
       "      <td>2021-12-06</td>\n",
       "      <td>15:35</td>\n",
       "    </tr>\n",
       "    <tr>\n",
       "      <th>2022-01-02</th>\n",
       "      <td>2022-01-02</td>\n",
       "      <td>17:50</td>\n",
       "    </tr>\n",
       "    <tr>\n",
       "      <th>2022-01-27</th>\n",
       "      <td>2022-01-27</td>\n",
       "      <td>15:35</td>\n",
       "    </tr>\n",
       "    <tr>\n",
       "      <th>2022-02-22</th>\n",
       "      <td>2022-02-22</td>\n",
       "      <td>17:50</td>\n",
       "    </tr>\n",
       "    <tr>\n",
       "      <th>2022-03-29</th>\n",
       "      <td>2022-03-29</td>\n",
       "      <td>17:50</td>\n",
       "    </tr>\n",
       "    <tr>\n",
       "      <th>2022-04-19</th>\n",
       "      <td>2022-04-19</td>\n",
       "      <td>17:50</td>\n",
       "    </tr>\n",
       "    <tr>\n",
       "      <th>2022-04-21</th>\n",
       "      <td>2022-04-21</td>\n",
       "      <td>15:35</td>\n",
       "    </tr>\n",
       "    <tr>\n",
       "      <th>2022-05-15</th>\n",
       "      <td>2022-05-15</td>\n",
       "      <td>17:41</td>\n",
       "    </tr>\n",
       "    <tr>\n",
       "      <th>2022-05-22</th>\n",
       "      <td>2022-05-22</td>\n",
       "      <td>16:21</td>\n",
       "    </tr>\n",
       "    <tr>\n",
       "      <th>2022-05-23</th>\n",
       "      <td>2022-05-23</td>\n",
       "      <td>17:50</td>\n",
       "    </tr>\n",
       "    <tr>\n",
       "      <th>2022-07-06</th>\n",
       "      <td>2022-07-06</td>\n",
       "      <td>17:50</td>\n",
       "    </tr>\n",
       "    <tr>\n",
       "      <th>2022-08-27</th>\n",
       "      <td>2022-08-27</td>\n",
       "      <td>16:21</td>\n",
       "    </tr>\n",
       "    <tr>\n",
       "      <th>2022-08-28</th>\n",
       "      <td>2022-08-28</td>\n",
       "      <td>17:41</td>\n",
       "    </tr>\n",
       "    <tr>\n",
       "      <th>2022-08-30</th>\n",
       "      <td>2022-08-30</td>\n",
       "      <td>17:41</td>\n",
       "    </tr>\n",
       "    <tr>\n",
       "      <th>2022-09-13</th>\n",
       "      <td>2022-09-13</td>\n",
       "      <td>17:41</td>\n",
       "    </tr>\n",
       "    <tr>\n",
       "      <th>2022-09-20</th>\n",
       "      <td>2022-09-20</td>\n",
       "      <td>17:50</td>\n",
       "    </tr>\n",
       "    <tr>\n",
       "      <th>2022-09-27</th>\n",
       "      <td>2022-09-27</td>\n",
       "      <td>18:06</td>\n",
       "    </tr>\n",
       "    <tr>\n",
       "      <th>2022-10-31</th>\n",
       "      <td>2022-10-31</td>\n",
       "      <td>17:41</td>\n",
       "    </tr>\n",
       "    <tr>\n",
       "      <th>2022-11-15</th>\n",
       "      <td>2022-11-15</td>\n",
       "      <td>15:35</td>\n",
       "    </tr>\n",
       "    <tr>\n",
       "      <th>2022-11-16</th>\n",
       "      <td>2022-11-16</td>\n",
       "      <td>17:41</td>\n",
       "    </tr>\n",
       "  </tbody>\n",
       "</table>\n",
       "</div>"
      ],
      "text/plain": [
       "              ASS_date ASS_time\n",
       "ASS_date                       \n",
       "2021-01-27  2021-01-27    17:41\n",
       "2021-03-08  2021-03-08    17:41\n",
       "2021-03-18  2021-03-18    18:06\n",
       "2021-04-04  2021-04-04    15:35\n",
       "2021-04-08  2021-04-08    17:50\n",
       "2021-04-18  2021-04-18    17:50\n",
       "2021-05-01  2021-05-01    16:21\n",
       "2021-05-03  2021-05-03    15:35\n",
       "2021-05-29  2021-05-29    17:41\n",
       "2021-06-15  2021-06-15    15:35\n",
       "2021-07-30  2021-07-30    17:41\n",
       "2021-08-03  2021-08-03    14:15\n",
       "2021-08-18  2021-08-18    14:15\n",
       "2021-09-18  2021-09-18    17:41\n",
       "2021-10-12  2021-10-12    14:15\n",
       "2021-12-06  2021-12-06    15:35\n",
       "2022-01-02  2022-01-02    17:50\n",
       "2022-01-27  2022-01-27    15:35\n",
       "2022-02-22  2022-02-22    17:50\n",
       "2022-03-29  2022-03-29    17:50\n",
       "2022-04-19  2022-04-19    17:50\n",
       "2022-04-21  2022-04-21    15:35\n",
       "2022-05-15  2022-05-15    17:41\n",
       "2022-05-22  2022-05-22    16:21\n",
       "2022-05-23  2022-05-23    17:50\n",
       "2022-07-06  2022-07-06    17:50\n",
       "2022-08-27  2022-08-27    16:21\n",
       "2022-08-28  2022-08-28    17:41\n",
       "2022-08-30  2022-08-30    17:41\n",
       "2022-09-13  2022-09-13    17:41\n",
       "2022-09-20  2022-09-20    17:50\n",
       "2022-09-27  2022-09-27    18:06\n",
       "2022-10-31  2022-10-31    17:41\n",
       "2022-11-15  2022-11-15    15:35\n",
       "2022-11-16  2022-11-16    17:41"
      ]
     },
     "execution_count": 1,
     "metadata": {},
     "output_type": "execute_result"
    }
   ],
   "source": [
    "from datetime import *\n",
    "import pandas as pd\n",
    "import numpy as np\n",
    "import random\n",
    "import time\n",
    "import csv\n",
    "import os\n",
    "os.chdir(r'C:\\Users\\li303\\OneDrive - 國立成功大學 National Cheng Kung University\\桌面\\高港\\即時排程_RL')\n",
    "\n",
    "ASS_time_list = pd.read_csv('ASS_time_random.csv')\n",
    "ASS_time_list.set_index(pd.to_datetime(ASS_time_list['ASS_date']), inplace=True, drop=True)\n",
    "ASS_time_list"
   ]
  },
  {
   "cell_type": "code",
   "execution_count": null,
   "metadata": {},
   "outputs": [],
   "source": [
    "day = '2022-01-02'\n",
    "if(day in ASS_time_list['ASS_date']):\n",
    "    ASS_time = ASS_time_list.loc[day, 'ASS_time']\n",
    "    print(ASS_time)\n",
    "else:\n",
    "    print(0)\n"
   ]
  },
  {
   "cell_type": "code",
   "execution_count": 4,
   "metadata": {},
   "outputs": [
    {
     "data": {
      "text/plain": [
       "730"
      ]
     },
     "execution_count": 4,
     "metadata": {},
     "output_type": "execute_result"
    }
   ],
   "source": [
    "os.chdir(r'C:\\Users\\li303\\OneDrive - 國立成功大學 National Cheng Kung University\\桌面\\高港\\廠商提供')\n",
    "date_list = pd.read_csv('7櫃LOAD_2021-22.csv', usecols=['date'])\n",
    "date_list.shape[0]"
   ]
  },
  {
   "cell_type": "code",
   "execution_count": 12,
   "metadata": {},
   "outputs": [
    {
     "name": "stdout",
     "output_type": "stream",
     "text": [
      "summer\n"
     ]
    },
    {
     "name": "stderr",
     "output_type": "stream",
     "text": [
      "c:\\Users\\li303\\anaconda3\\lib\\site-packages\\interval.py:731: FutureWarning: Comparison of Timestamp with datetime.date is deprecated in order to match the standard library behavior. In a future version these will be considered non-comparable. Use 'ts == pd.Timestamp(date)' or 'ts.date() == date' instead.\n",
      "  if obj.lower_bound < self.lower_bound:\n",
      "c:\\Users\\li303\\anaconda3\\lib\\site-packages\\interval.py:733: FutureWarning: Comparison of Timestamp with datetime.date is deprecated in order to match the standard library behavior. In a future version these will be considered non-comparable. Use 'ts == pd.Timestamp(date)' or 'ts.date() == date' instead.\n",
      "  elif obj.lower_bound == self.lower_bound:\n",
      "c:\\Users\\li303\\anaconda3\\lib\\site-packages\\interval.py:738: FutureWarning: Comparison of Timestamp with datetime.date is deprecated in order to match the standard library behavior. In a future version these will be considered non-comparable. Use 'ts == pd.Timestamp(date)' or 'ts.date() == date' instead.\n",
      "  if obj.upper_bound > self.upper_bound:\n",
      "c:\\Users\\li303\\anaconda3\\lib\\site-packages\\interval.py:740: FutureWarning: Comparison of Timestamp with datetime.date is deprecated in order to match the standard library behavior. In a future version these will be considered non-comparable. Use 'ts == pd.Timestamp(date)' or 'ts.date() == date' instead.\n",
      "  elif obj.upper_bound == self.upper_bound:\n"
     ]
    }
   ],
   "source": [
    "from interval import Interval\n",
    "\n",
    "def season_judgement(time_now):\n",
    "    time_now = pd.to_datetime(time_now)\n",
    "    SUM_time_interval = Interval(date(time_now.year,5,16),date(time_now.year,10,15))\n",
    "    if (time_now in SUM_time_interval):\n",
    "        season = 'summer'\n",
    "    else:\n",
    "        season = 'normal'\n",
    "    return season\n",
    "\n",
    "os.chdir(r'C:\\Users\\li303\\OneDrive - 國立成功大學 National Cheng Kung University\\桌面\\高港\\廠商提供')\n",
    "date_list = pd.read_csv('7櫃LOAD_2021-22.csv', usecols=['date'])\n",
    "\n",
    "day = date_list.loc[0, 'date']\n",
    "# for days in range(len(date_list['date'])):\n",
    "#     day = date_list.loc[days, 'date']\n",
    "#     print(day)\n",
    "season = season_judgement('2022-07-29')\n",
    "print(season)"
   ]
  },
  {
   "cell_type": "code",
   "execution_count": 12,
   "metadata": {},
   "outputs": [
    {
     "name": "stdout",
     "output_type": "stream",
     "text": [
      "[ 32.1  32.1  32.1  32.1  32.1  32.1 160.6 160.6 160.6 160.6 160.6  32.1\n",
      "  32.1  32.1 160.6 160.6 160.6 160.6 160.6 160.6 160.6 160.6 160.6 160.6]\n",
      "[ 43.4  43.4  43.4  43.4  43.4  43.4  43.4  43.4  43.4 160.6 160.6 160.6\n",
      " 160.6 160.6 160.6 160.6 217.3 217.3 217.3 217.3 217.3 217.3 160.6 160.6]\n"
     ]
    }
   ],
   "source": [
    "from datetime import *\n",
    "import pandas as pd\n",
    "import numpy as np\n",
    "\n",
    "\n",
    "time_scale = 4\n",
    "def Cont_base(day):     #seg = 二/三段式時間電價?\n",
    "        summer = (6 <= day.month <= 9)\n",
    "        weekday = day.weekday()\n",
    "        cont = np.zeros(24)\n",
    "\n",
    "        if summer:\n",
    "            cont[:] = 43.4\n",
    "            if 0 <= weekday <= 4:\n",
    "                cont[9:16] = 160.6\n",
    "                cont[16:22] = 217.3\n",
    "                cont[22:   ] = 160.6\n",
    "            if weekday == 5:\n",
    "                cont[9:   ] = 43.4\n",
    "        else:\n",
    "            cont[:] = 32.1\n",
    "            if 0 <= weekday <= 4:\n",
    "                cont[ 6:11] = 160.6\n",
    "                cont[14:   ] = 160.6\n",
    "            if weekday == 5:\n",
    "                cont[ 6:11] = 32.1\n",
    "                cont[14:   ] = 32.1\n",
    "        return cont\n",
    "print(Cont_base(pd.to_datetime('2023-05-03')))\n",
    "print(Cont_base(pd.to_datetime('2023-08-03')))"
   ]
  },
  {
   "cell_type": "code",
   "execution_count": 3,
   "metadata": {},
   "outputs": [
    {
     "data": {
      "text/html": [
       "<div>\n",
       "<style scoped>\n",
       "    .dataframe tbody tr th:only-of-type {\n",
       "        vertical-align: middle;\n",
       "    }\n",
       "\n",
       "    .dataframe tbody tr th {\n",
       "        vertical-align: top;\n",
       "    }\n",
       "\n",
       "    .dataframe thead th {\n",
       "        text-align: right;\n",
       "    }\n",
       "</style>\n",
       "<table border=\"1\" class=\"dataframe\">\n",
       "  <thead>\n",
       "    <tr style=\"text-align: right;\">\n",
       "      <th></th>\n",
       "      <th>Price</th>\n",
       "    </tr>\n",
       "  </thead>\n",
       "  <tbody>\n",
       "    <tr>\n",
       "      <th>0</th>\n",
       "      <td>400.0</td>\n",
       "    </tr>\n",
       "    <tr>\n",
       "      <th>1</th>\n",
       "      <td>400.0</td>\n",
       "    </tr>\n",
       "    <tr>\n",
       "      <th>2</th>\n",
       "      <td>400.0</td>\n",
       "    </tr>\n",
       "    <tr>\n",
       "      <th>3</th>\n",
       "      <td>400.0</td>\n",
       "    </tr>\n",
       "    <tr>\n",
       "      <th>4</th>\n",
       "      <td>400.0</td>\n",
       "    </tr>\n",
       "    <tr>\n",
       "      <th>...</th>\n",
       "      <td>...</td>\n",
       "    </tr>\n",
       "    <tr>\n",
       "      <th>106843</th>\n",
       "      <td>399.0</td>\n",
       "    </tr>\n",
       "    <tr>\n",
       "      <th>106844</th>\n",
       "      <td>399.0</td>\n",
       "    </tr>\n",
       "    <tr>\n",
       "      <th>106845</th>\n",
       "      <td>399.0</td>\n",
       "    </tr>\n",
       "    <tr>\n",
       "      <th>106846</th>\n",
       "      <td>399.0</td>\n",
       "    </tr>\n",
       "    <tr>\n",
       "      <th>106847</th>\n",
       "      <td>399.0</td>\n",
       "    </tr>\n",
       "  </tbody>\n",
       "</table>\n",
       "<p>106848 rows × 1 columns</p>\n",
       "</div>"
      ],
      "text/plain": [
       "        Price\n",
       "0       400.0\n",
       "1       400.0\n",
       "2       400.0\n",
       "3       400.0\n",
       "4       400.0\n",
       "...       ...\n",
       "106843  399.0\n",
       "106844  399.0\n",
       "106845  399.0\n",
       "106846  399.0\n",
       "106847  399.0\n",
       "\n",
       "[106848 rows x 1 columns]"
      ]
     },
     "execution_count": 3,
     "metadata": {},
     "output_type": "execute_result"
    }
   ],
   "source": [
    "from datetime import *\n",
    "import pandas as pd\n",
    "import numpy as np\n",
    "import random\n",
    "import time\n",
    "import csv\n",
    "import os\n",
    "os.chdir(r'C:\\Users\\li303\\OneDrive - 國立成功大學 National Cheng Kung University\\桌面\\高港')\n",
    "\n",
    "SpR_cap_list = pd.read_csv('factory_data_comp.csv', usecols=['Price'])\n",
    "SpR_cap_list"
   ]
  },
  {
   "cell_type": "code",
   "execution_count": 8,
   "metadata": {},
   "outputs": [
    {
     "data": {
      "text/plain": [
       "array([1., 2., 3.])"
      ]
     },
     "execution_count": 8,
     "metadata": {},
     "output_type": "execute_result"
    }
   ],
   "source": [
    "a = np.array([1,1,1,1,2,2,2,2,3,3,3,3])\n",
    "result = np.mean(a.reshape(-1, 4)[:3], axis=1)\n",
    "result"
   ]
  },
  {
   "cell_type": "code",
   "execution_count": 21,
   "metadata": {},
   "outputs": [],
   "source": [
    "SpR_cap_price = set(SpR_cap_list['Price'])\n",
    "SpR_cap_price = pd.DataFrame(SpR_cap_price,columns=['SpR_cap_price']).dropna()\n",
    "# SpR_cap_price = set(SpR_cap_price[0])\n",
    "SpR_cap_price = SpR_cap_price.sort_values(by=['SpR_cap_price'])\n",
    "SpR_cap_price.reset_index(drop=True)\n",
    "SpR_cap_price.to_csv('能元即時備轉歷史容量費.csv', encoding='utf-8_sig', index=False)"
   ]
  },
  {
   "cell_type": "code",
   "execution_count": 47,
   "metadata": {},
   "outputs": [
    {
     "name": "stderr",
     "output_type": "stream",
     "text": [
      "C:\\Users\\li303\\AppData\\Local\\Temp\\ipykernel_20168\\2373113292.py:15: FutureWarning: The default value of numeric_only in DataFrameGroupBy.mean is deprecated. In a future version, numeric_only will default to False. Either specify numeric_only or select only columns which should be valid for the function.\n",
      "  resource_operate_data = resource_operate_data.resample('15T').mean()\n"
     ]
    }
   ],
   "source": [
    "from datetime import *\n",
    "import pandas as pd\n",
    "import numpy as np\n",
    "import random\n",
    "import time\n",
    "import csv\n",
    "import os\n",
    "os.chdir(r'C:\\Users\\li303\\OneDrive\\桌面')\n",
    "\n",
    "resource_operate_data = pd.read_csv('resource_operate_data.csv')\n",
    "resource_operate_data['time'] = pd.to_datetime(resource_operate_data['time'])\n",
    "\n",
    "resource_operate_data.set_index(resource_operate_data['time'], inplace=True, drop=True)\n",
    "\n",
    "resource_operate_data = resource_operate_data.resample('15T').mean()\n",
    "resource_operate_data.to_csv('resource_operate_data_15.csv', encoding='utf-8_sig', index=False)"
   ]
  },
  {
   "cell_type": "code",
   "execution_count": 44,
   "metadata": {},
   "outputs": [
    {
     "name": "stderr",
     "output_type": "stream",
     "text": [
      "C:\\Users\\li303\\AppData\\Local\\Temp\\ipykernel_20168\\4200959546.py:5: FutureWarning: Indexing a DataFrame with a datetimelike index using a single string to slice the rows, like `frame[string]`, is deprecated and will be removed in a future version. Use `frame.loc[string]` instead.\n",
      "  if(resource_operate_data[time_index.strftime(\"%Y-%m-%d %H:%M\")].shape[0] > 6):\n"
     ]
    },
    {
     "name": "stdout",
     "output_type": "stream",
     "text": [
      "2023-07-11 15:28:00\n"
     ]
    }
   ],
   "source": [
    "time_index = pd.to_datetime('2023-07-11 00:00')\n",
    "\n",
    "for i in range(int(resource_operate_data.shape[0]/6)):\n",
    "    time_index = time_index + timedelta(minutes=1)\n",
    "    if(resource_operate_data[time_index.strftime(\"%Y-%m-%d %H:%M\")].shape[0] > 6):\n",
    "        print(time_index)"
   ]
  },
  {
   "cell_type": "code",
   "execution_count": 55,
   "metadata": {},
   "outputs": [],
   "source": [
    "import pandas as pd\n",
    "import numpy as np\n",
    "time_scale = 1\n",
    "def TOU(day):     #seg = 二/三段式時間電價?\n",
    "        summer = (6 <= day.month <= 9)\n",
    "        weekday = day.weekday()\n",
    "        tou = np.zeros(24)\n",
    "\n",
    "        if summer:\n",
    "            tou[:] = 1.83\n",
    "            if 0 <= weekday <= 4:\n",
    "                tou[9*time_scale:16*time_scale] = 4.08\n",
    "                tou[16*time_scale:22*time_scale] = 6.58\n",
    "                tou[22*time_scale:   ] = 4.08\n",
    "            if weekday == 5:\n",
    "                tou[9*time_scale:   ] = 1.98\n",
    "        else:\n",
    "            tou[:] = 1.66\n",
    "            if 0 <= weekday <= 4:\n",
    "                tou[ 6*time_scale:11*time_scale] = 3.82\n",
    "                tou[14*time_scale:   ] = 3.82\n",
    "            if weekday == 5:\n",
    "                tou[ 6*time_scale:11*time_scale] = 1.83\n",
    "                tou[14*time_scale:   ] = 1.83\n",
    "        return tou/time_scale\n",
    "data = {\"非夏月\":TOU(pd.to_datetime('2023-05-03')),\n",
    "        \"夏月\":TOU(pd.to_datetime('2023-08-03'))}\n",
    "out_df = pd.DataFrame(data).T\n",
    "out_df.to_csv('tou_data.csv', encoding='utf-8_sig', index=True)"
   ]
  },
  {
   "cell_type": "code",
   "execution_count": 44,
   "metadata": {},
   "outputs": [],
   "source": [
    "#爬蟲抓取即時備轉容量費\n",
    "import pandas as pd\n",
    "import numpy as np\n",
    "import os\n",
    "import pymysql\n",
    "from datetime import datetime,date,time,timedelta\n",
    "import requests,json\n",
    "today = date.today()\n",
    "\n",
    "pri = requests.get(f\"https://etp.taipower.com.tw/api/infoboard/settle_value/query?startDate={date.today()}\")\n",
    "sr_price = np.array(pd.DataFrame(json.loads(pri.text)['data'])['srPrice'])\n",
    "\n",
    "pd.DataFrame(sr_price).to_csv('spr_price.csv', encoding='utf-8_sig', index=False)"
   ]
  },
  {
   "cell_type": "code",
   "execution_count": 42,
   "metadata": {},
   "outputs": [
    {
     "name": "stderr",
     "output_type": "stream",
     "text": [
      "c:\\Users\\li303\\anaconda3\\lib\\site-packages\\IPython\\core\\pylabtools.py:152: UserWarning: Glyph 20803 (\\N{CJK UNIFIED IDEOGRAPH-5143}) missing from current font.\n",
      "  fig.canvas.print_figure(bytes_io, **kw)\n",
      "c:\\Users\\li303\\anaconda3\\lib\\site-packages\\IPython\\core\\pylabtools.py:152: UserWarning: Glyph 21363 (\\N{CJK UNIFIED IDEOGRAPH-5373}) missing from current font.\n",
      "  fig.canvas.print_figure(bytes_io, **kw)\n",
      "c:\\Users\\li303\\anaconda3\\lib\\site-packages\\IPython\\core\\pylabtools.py:152: UserWarning: Glyph 26178 (\\N{CJK UNIFIED IDEOGRAPH-6642}) missing from current font.\n",
      "  fig.canvas.print_figure(bytes_io, **kw)\n",
      "c:\\Users\\li303\\anaconda3\\lib\\site-packages\\IPython\\core\\pylabtools.py:152: UserWarning: Glyph 20633 (\\N{CJK UNIFIED IDEOGRAPH-5099}) missing from current font.\n",
      "  fig.canvas.print_figure(bytes_io, **kw)\n",
      "c:\\Users\\li303\\anaconda3\\lib\\site-packages\\IPython\\core\\pylabtools.py:152: UserWarning: Glyph 36681 (\\N{CJK UNIFIED IDEOGRAPH-8F49}) missing from current font.\n",
      "  fig.canvas.print_figure(bytes_io, **kw)\n",
      "c:\\Users\\li303\\anaconda3\\lib\\site-packages\\IPython\\core\\pylabtools.py:152: UserWarning: Glyph 23481 (\\N{CJK UNIFIED IDEOGRAPH-5BB9}) missing from current font.\n",
      "  fig.canvas.print_figure(bytes_io, **kw)\n",
      "c:\\Users\\li303\\anaconda3\\lib\\site-packages\\IPython\\core\\pylabtools.py:152: UserWarning: Glyph 37327 (\\N{CJK UNIFIED IDEOGRAPH-91CF}) missing from current font.\n",
      "  fig.canvas.print_figure(bytes_io, **kw)\n",
      "c:\\Users\\li303\\anaconda3\\lib\\site-packages\\IPython\\core\\pylabtools.py:152: UserWarning: Glyph 36027 (\\N{CJK UNIFIED IDEOGRAPH-8CBB}) missing from current font.\n",
      "  fig.canvas.print_figure(bytes_io, **kw)\n",
      "c:\\Users\\li303\\anaconda3\\lib\\site-packages\\IPython\\core\\pylabtools.py:152: UserWarning: Glyph 23567 (\\N{CJK UNIFIED IDEOGRAPH-5C0F}) missing from current font.\n",
      "  fig.canvas.print_figure(bytes_io, **kw)\n"
     ]
    },
    {
     "data": {
      "image/png": "[encoded data removed]",
      "text/plain": [
       "<Figure size 640x480 with 1 Axes>"
      ]
     },
     "metadata": {},
     "output_type": "display_data"
    }
   ],
   "source": [
    "import matplotlib.pyplot as plt\n",
    "\n",
    "x = [i for i in range(24)]\n",
    "\n",
    "plt.bar(x, sr_price)\n",
    "plt.xticks(x, x)\n",
    "plt.title('即時備轉容量費')\n",
    "plt.xlabel('小時')\n",
    "plt.ylabel('元/MWh')\n",
    "plt.show()"
   ]
  },
  {
   "cell_type": "code",
   "execution_count": 3,
   "metadata": {},
   "outputs": [],
   "source": [
    "from datetime import *\n",
    "from interval import Interval\n",
    "import time\n",
    "import configparser as cp\n",
    "import pandas as pd\n",
    "import numpy as np\n",
    "import random\n",
    "import csv\n",
    "import os\n",
    "import pymysql\n",
    "from datetime import datetime,date,time,timedelta\n",
    "import requests,json\n",
    "\n",
    "ncku_host = '140.116.163.7' \n",
    "ncku_port = 10108 \n",
    "account = 'Thomas'\n",
    "password = 'epslab92702'\n",
    "\n",
    "conn = pymysql.connect(host=ncku_host, port=ncku_port, user=account, passwd=password, db='ceci_planning', charset='utf8')\n",
    "cursor = conn.cursor()\n",
    "sql1 = (\"SELECT * FROM `ess_parameter` ORDER BY `sn` DESC LIMIT 1\") #Find the latest time in the database\n",
    "cursor.execute(sql1) \n",
    "ess = cursor.fetchone() #fetchone;one only #fetchall; all data catched\n",
    "cursor.close()\n",
    "conn.close()"
   ]
  },
  {
   "cell_type": "code",
   "execution_count": 4,
   "metadata": {},
   "outputs": [
    {
     "data": {
      "text/plain": [
       "(1,\n",
       " 'b0ab6a74-322a-66d9-aadc-289ccfca68f8',\n",
       " 12,\n",
       " 8,\n",
       " 12,\n",
       " 8,\n",
       " 90.0,\n",
       " 10.0,\n",
       " 10,\n",
       " 6000,\n",
       " 95.0,\n",
       " 16000,\n",
       " 3500,\n",
       " datetime.datetime(2023, 11, 7, 16, 28, 57),\n",
       " '0000-00-00 00:00:00')"
      ]
     },
     "execution_count": 4,
     "metadata": {},
     "output_type": "execute_result"
    }
   ],
   "source": [
    "conn = pymysql.connect(host=ncku_host, port=ncku_port, user=account, passwd=password, db='ceci_planning', charset='utf8')\n",
    "cursor = conn.cursor()\n",
    "sql1 = (\"SELECT * FROM `ess_parameter` ORDER BY `sn` DESC LIMIT 1\") #Find the latest time in the database\n",
    "cursor.execute(sql1) \n",
    "ess_parameter = cursor.fetchone() #fetchone;one only #fetchall; all data catched\n",
    "cursor.close()\n",
    "conn.close()\n",
    "\n",
    "battery_ub = ess_parameter[1]\n",
    "battery_lb = ess_parameter[2]\n",
    "pcs_ub = ess_parameter[3]\n",
    "pcs_lb = ess_parameter[4]\n",
    "ESS_SOCmin = ess_parameter[5]/100\n",
    "ESS_SOCmax = ess_parameter[6]/100\n",
    "ESS_SOCinitial = ESS_SOCmin\n",
    "ess_calender_life = ess_parameter[7]\n",
    "mESS = round(1/ess_parameter[8],7)\n",
    "Ess_efficiency = ess_parameter[9]/100\n",
    "ess_cost = ess_parameter[10]                                                               #電池建置價格\n",
    "pcs_cost = ess_parameter[11]                                                             #pcs建置價格\n",
    "ess_parameter"
   ]
  },
  {
   "cell_type": "code",
   "execution_count": 74,
   "metadata": {},
   "outputs": [
    {
     "name": "stdout",
     "output_type": "stream",
     "text": [
      "是\n",
      "1\n"
     ]
    }
   ],
   "source": [
    "conn = pymysql.connect(host=ncku_host, port=ncku_port, user=account, passwd=password, db='ceci_planning', charset='utf8')\n",
    "cursor = conn.cursor()\n",
    "sql1 = (\"SELECT * FROM `opt_parameter` ORDER BY `sn` DESC LIMIT 1\") #Find the latest time in the database\n",
    "cursor.execute(sql1) \n",
    "ess_parameter = cursor.fetchone() #fetchone;one only #fetchall; all data catched\n",
    "cursor.close()\n",
    "conn.close()\n",
    "\n",
    "planning_year = ess_parameter[1]\n",
    "cc_ub = ess_parameter[2]\n",
    "discount_rate = ess_parameter[3]\n",
    "spr_status = 1 if(ess_parameter[4] == '是') else 0\n",
    "print(ess_parameter[4])\n",
    "print(spr_status)"
   ]
  },
  {
   "cell_type": "code",
   "execution_count": 105,
   "metadata": {},
   "outputs": [
    {
     "data": {
      "text/plain": [
       "array([[1.66, 1.66, 1.66, 1.66, 1.66, 1.66, 3.82, 3.82, 3.82, 3.82, 3.82,\n",
       "        1.66, 1.66, 1.66, 3.82, 3.82, 3.82, 3.82, 3.82, 3.82, 3.82, 3.82,\n",
       "        3.82, 3.82],\n",
       "       [1.83, 1.83, 1.83, 1.83, 1.83, 1.83, 1.83, 1.83, 1.83, 4.08, 4.08,\n",
       "        4.08, 4.08, 4.08, 4.08, 4.08, 6.58, 6.58, 6.58, 6.58, 6.58, 6.58,\n",
       "        4.08, 4.08]], dtype=object)"
      ]
     },
     "execution_count": 105,
     "metadata": {},
     "output_type": "execute_result"
    }
   ],
   "source": [
    "conn = pymysql.connect(host=ncku_host, port=ncku_port, user=account, passwd=password, db='ceci_planning', charset='utf8')\n",
    "cursor = conn.cursor()\n",
    "sql1 = (\"SELECT * FROM `tou_data`\") #Find the latest time in the database\n",
    "cursor.execute(sql1) \n",
    "tou_data = pd.DataFrame(cursor.fetchall()) #fetchone;one only #fetchall; all data catched\n",
    "cursor.close()\n",
    "conn.close()\n",
    "nonsummer_tou = np.array(tou_data.iloc[0, 2:])\n",
    "summer_tou = np.array(tou_data.iloc[1, 2:])\n",
    "\n",
    "TOU_scenario = np.array([nonsummer_tou,summer_tou])\n",
    "TOU_scenario"
   ]
  },
  {
   "cell_type": "code",
   "execution_count": 147,
   "metadata": {},
   "outputs": [],
   "source": [
    "conn = pymysql.connect(host=ncku_host, port=ncku_port, user=account, passwd=password, db='ceci_planning', charset='utf8')\n",
    "cursor = conn.cursor()\n",
    "sql1 = (\"SELECT * FROM `spr_parameter` ORDER BY `sn` DESC LIMIT 1\") #Find the latest time in the database\n",
    "cursor.execute(sql1) \n",
    "spr_parameter = cursor.fetchone() #fetchone;one only #fetchall; all data catched\n",
    "cursor.close()\n",
    "conn.close()\n",
    "SpR_eff_price = np.array([spr_parameter[1]]*96)\n",
    "SpR_energy_price = np.array([spr_parameter[2]/1000/4]*96)"
   ]
  },
  {
   "cell_type": "code",
   "execution_count": 185,
   "metadata": {},
   "outputs": [
    {
     "name": "stdout",
     "output_type": "stream",
     "text": [
      "24\n"
     ]
    }
   ],
   "source": [
    "conn = pymysql.connect(host=ncku_host, port=ncku_port, user=account, passwd=password, db='ceci_planning', charset='utf8')\n",
    "cursor = conn.cursor()\n",
    "\n",
    "sql1 = (\"SELECT * FROM `spr_cap_price` ORDER BY `sn` DESC LIMIT 1\") #Find the latest time in the database\n",
    "cursor.execute(sql1) \n",
    "spr_cap_price = cursor.fetchone()[1:25] #fetchone;one only #fetchall; all data catched\n",
    "sql2 = (\"SELECT * FROM `spr_parameter` ORDER BY `sn` DESC LIMIT 1\") #Find the latest time in the database\n",
    "cursor.execute(sql2) \n",
    "spr_parameter = cursor.fetchone() #fetchone;one only #fetchall; all data catched\n",
    "\n",
    "cursor.close()\n",
    "conn.close()\n",
    "print(len(spr_cap_price))\n",
    "SpR_eff_price = np.array([spr_parameter[1]]*96)\n",
    "SpR_energy_price = np.array([spr_parameter[2]/1000/4]*96)"
   ]
  },
  {
   "cell_type": "code",
   "execution_count": 201,
   "metadata": {},
   "outputs": [
    {
     "data": {
      "text/plain": [
       "70"
      ]
     },
     "execution_count": 201,
     "metadata": {},
     "output_type": "execute_result"
    }
   ],
   "source": [
    "start_time = spr_parameter[4]\n",
    "start_time = round(int(str(spr_parameter[4])[0:2])*4+int(str(spr_parameter[4])[3:5])/15)\n",
    "start_time"
   ]
  },
  {
   "cell_type": "code",
   "execution_count": 2,
   "metadata": {},
   "outputs": [
    {
     "ename": "NameError",
     "evalue": "name 'ncku_host' is not defined",
     "output_type": "error",
     "traceback": [
      "\u001b[1;31m---------------------------------------------------------------------------\u001b[0m",
      "\u001b[1;31mNameError\u001b[0m                                 Traceback (most recent call last)",
      "\u001b[1;32mc:\\Users\\li303\\OneDrive - 國立成功大學 National Cheng Kung University\\桌面\\高港\\即時排程_01\\test.ipynb Cell 28\u001b[0m line \u001b[0;36m3\n\u001b[0;32m      <a href='vscode-notebook-cell:/c%3A/Users/li303/OneDrive%20-%20%E5%9C%8B%E7%AB%8B%E6%88%90%E5%8A%9F%E5%A4%A7%E5%AD%B8%20National%20Cheng%20Kung%20University/%E6%A1%8C%E9%9D%A2/%E9%AB%98%E6%B8%AF/%E5%8D%B3%E6%99%82%E6%8E%92%E7%A8%8B_01/test.ipynb#X36sZmlsZQ%3D%3D?line=0'>1</a>\u001b[0m \u001b[39mimport\u001b[39;00m \u001b[39mpymysql\u001b[39;00m\n\u001b[1;32m----> <a href='vscode-notebook-cell:/c%3A/Users/li303/OneDrive%20-%20%E5%9C%8B%E7%AB%8B%E6%88%90%E5%8A%9F%E5%A4%A7%E5%AD%B8%20National%20Cheng%20Kung%20University/%E6%A1%8C%E9%9D%A2/%E9%AB%98%E6%B8%AF/%E5%8D%B3%E6%99%82%E6%8E%92%E7%A8%8B_01/test.ipynb#X36sZmlsZQ%3D%3D?line=2'>3</a>\u001b[0m conn \u001b[39m=\u001b[39m pymysql\u001b[39m.\u001b[39mconnect(host\u001b[39m=\u001b[39mncku_host, port\u001b[39m=\u001b[39mncku_port, user\u001b[39m=\u001b[39maccount, passwd\u001b[39m=\u001b[39mpassword, db\u001b[39m=\u001b[39m\u001b[39m'\u001b[39m\u001b[39mceci_planning\u001b[39m\u001b[39m'\u001b[39m, charset\u001b[39m=\u001b[39m\u001b[39m'\u001b[39m\u001b[39mutf8\u001b[39m\u001b[39m'\u001b[39m)\n\u001b[0;32m      <a href='vscode-notebook-cell:/c%3A/Users/li303/OneDrive%20-%20%E5%9C%8B%E7%AB%8B%E6%88%90%E5%8A%9F%E5%A4%A7%E5%AD%B8%20National%20Cheng%20Kung%20University/%E6%A1%8C%E9%9D%A2/%E9%AB%98%E6%B8%AF/%E5%8D%B3%E6%99%82%E6%8E%92%E7%A8%8B_01/test.ipynb#X36sZmlsZQ%3D%3D?line=3'>4</a>\u001b[0m cursor \u001b[39m=\u001b[39m conn\u001b[39m.\u001b[39mcursor()\n\u001b[0;32m      <a href='vscode-notebook-cell:/c%3A/Users/li303/OneDrive%20-%20%E5%9C%8B%E7%AB%8B%E6%88%90%E5%8A%9F%E5%A4%A7%E5%AD%B8%20National%20Cheng%20Kung%20University/%E6%A1%8C%E9%9D%A2/%E9%AB%98%E6%B8%AF/%E5%8D%B3%E6%99%82%E6%8E%92%E7%A8%8B_01/test.ipynb#X36sZmlsZQ%3D%3D?line=4'>5</a>\u001b[0m sql1 \u001b[39m=\u001b[39m (\u001b[39m\"\u001b[39m\u001b[39mSELECT * FROM `planning_area_data` ORDER BY `sn` DESC LIMIT 1\u001b[39m\u001b[39m\"\u001b[39m) \u001b[39m#Find the latest time in the database\u001b[39;00m\n",
      "\u001b[1;31mNameError\u001b[0m: name 'ncku_host' is not defined"
     ]
    }
   ],
   "source": [
    "import pymysql\n",
    "\n",
    "conn = pymysql.connect(host=ncku_host, port=ncku_port, user=account, passwd=password, db='ceci_planning', charset='utf8')\n",
    "cursor = conn.cursor()\n",
    "sql1 = (\"SELECT * FROM `planning_area_data` ORDER BY `sn` DESC LIMIT 1\") #Find the latest time in the database\n",
    "cursor.execute(sql1) \n",
    "planning_area_data = cursor.fetchone() #fetchone;one only #fetchall; all data catched\n",
    "cursor.close()\n",
    "conn.close()\n",
    "\n",
    "planning_area_data"
   ]
  },
  {
   "cell_type": "code",
   "execution_count": 204,
   "metadata": {},
   "outputs": [
    {
     "name": "stdout",
     "output_type": "stream",
     "text": [
      "UPDATE `optimal_capacity` SET `pcs_capacity` = '9.5', `battery_capacity` = '9.5', `contract_capacity` = '10', `ess_build_cost` = '1000000000' WHERE `optimal_capacity`.`sn` = 1\n"
     ]
    }
   ],
   "source": [
    "conn = pymysql.connect(host=ncku_host, port=ncku_port, user=account, passwd=password, db='ceci_planning', charset='utf8')\n",
    "cursor = conn.cursor()\n",
    "\n",
    "sql1 = (f\"UPDATE `optimal_capacity` SET `pcs_capacity` = '{9.5}', `battery_capacity` = '{9.5}', `contract_capacity` = '{10}', `ess_build_cost` = '{1000000000}' WHERE `optimal_capacity`.`sn` = 1\")\n",
    "print(sql1)\n",
    "cursor.execute(sql1) \n",
    "conn.commit()\n",
    "cursor.close()\n",
    "conn.close()"
   ]
  },
  {
   "cell_type": "code",
   "execution_count": 1,
   "metadata": {},
   "outputs": [],
   "source": [
    "cal_a = 3.36 * (10**(-6))\n",
    "cal_b = 2.12 * (10**(-5))\n",
    "cal_c = 1.12 * (10**(-5))\n",
    "cyc_a = 2.07 * (10**(-4))\n",
    "cyc_b = 8.12 * (10**(-6))"
   ]
  },
  {
   "cell_type": "code",
   "execution_count": 34,
   "metadata": {},
   "outputs": [
    {
     "name": "stdout",
     "output_type": "stream",
     "text": [
      "0.1 0.1\n",
      "1.3353600000000002e-05 1.3387200000000001e-05\n",
      "0.2 0.2\n",
      "1.55744e-05 1.55744e-05\n",
      "0.3 0.3\n",
      "1.78624e-05 1.7896e-05\n",
      "0.4 0.4\n",
      "2.02176e-05 2.02176e-05\n",
      "0.5 0.5\n",
      "2.2640000000000003e-05 2.2673600000000003e-05\n",
      "0.6 0.6\n",
      "2.5129600000000004e-05 2.5129600000000004e-05\n",
      "0.7 0.7\n",
      "2.7686400000000003e-05 2.7720000000000006e-05\n",
      "0.8 0.8\n",
      "3.0310400000000004e-05 3.0310400000000007e-05\n",
      "0.9 0.9\n",
      "3.3001600000000006e-05 3.30352e-05\n",
      "1.0 1.0\n",
      "3.576e-05 3.5759999999999996e-05\n"
     ]
    },
    {
     "data": {
      "text/plain": [
       "[array([2.1872e-05, 1.1200e-05]),\n",
       " array([2.32160e-05, 1.09312e-05]),\n",
       " array([2.45600e-05, 1.03936e-05]),\n",
       " array([2.5904e-05, 9.5872e-06]),\n",
       " array([2.7248e-05, 8.5120e-06])]"
      ]
     },
     "execution_count": 34,
     "metadata": {},
     "output_type": "execute_result"
    }
   ],
   "source": [
    "cal_a = 3.36 * (10**(-6))\n",
    "cal_b = 2.12 * (10**(-5))\n",
    "cal_c = 1.12 * (10**(-5))\n",
    "def cal_function(SoC):\n",
    "    return cal_a * SoC**2 + cal_b * SoC + cal_c\n",
    "\n",
    "import numpy as np \n",
    "def piecewise(lb,ub):\n",
    "    A = np.array([[lb,1],\n",
    "                [ub,1]])\n",
    "    B = np.array([cal_function(lb),cal_function(ub)])\n",
    "    return np.linalg.solve(A, B)\n",
    "\n",
    "sol = []\n",
    "for i in range(0, 10, 2):\n",
    "    sol.append(piecewise(i/10, (i+2)/10))\n",
    "for i in range(0, 5):\n",
    "    print((i*2+1)/10,(i*2+1)/10)\n",
    "    print(cal_function((i*2+1)/10), sol[i][0]*(i*2+1)/10+sol[i][1])\n",
    "    print((i*2+2)/10,(i*2+2)/10)\n",
    "    print(cal_function((i*2+2)/10), sol[i][0]*(i*2+2)/10+sol[i][1])\n",
    "sol"
   ]
  },
  {
   "cell_type": "code",
   "execution_count": 2,
   "metadata": {},
   "outputs": [
    {
     "name": "stdout",
     "output_type": "stream",
     "text": [
      "0.1 0.1\n",
      "2.8820000000000005e-06 4.952000000000001e-06\n",
      "0.2 0.2\n",
      "9.904000000000002e-06 9.904000000000002e-06\n",
      "0.3 0.3\n",
      "2.1065999999999998e-05 2.313600000000001e-05\n",
      "0.4 0.4\n",
      "3.636800000000001e-05 3.636800000000001e-05\n",
      "0.5 0.5\n",
      "5.5809999999999996e-05 5.788e-05\n",
      "0.6 0.6\n",
      "7.9392e-05 7.939200000000002e-05\n",
      "0.7 0.7\n",
      "0.00010711399999999998 0.00010918399999999996\n",
      "0.8 0.8\n",
      "0.00013897600000000002 0.000138976\n",
      "0.9 0.9\n",
      "0.000174978 0.000177048\n",
      "1.0 1.0\n",
      "0.00021512 0.00021512\n"
     ]
    },
    {
     "data": {
      "text/plain": [
       "[array([4.952e-05, 0.000e+00]),\n",
       " array([ 1.3232e-04, -1.6560e-05]),\n",
       " array([ 2.1512e-04, -4.9680e-05]),\n",
       " array([ 2.9792e-04, -9.9360e-05]),\n",
       " array([ 0.00038072, -0.0001656 ])]"
      ]
     },
     "execution_count": 2,
     "metadata": {},
     "output_type": "execute_result"
    }
   ],
   "source": [
    "cyc_a = 2.07 * (10**(-4))\n",
    "cyc_b = 8.12 * (10**(-6))\n",
    "def cyc_function(DoD):\n",
    "    return cyc_a * DoD**2 + cyc_b * DoD\n",
    "\n",
    "import numpy as np \n",
    "def piecewise_cyc(lb,ub):\n",
    "    A = np.array([[lb,1],\n",
    "                [ub,1]])\n",
    "    B = np.array([cyc_function(lb),cyc_function(ub)])\n",
    "    return np.linalg.solve(A, B)\n",
    "\n",
    "sol = []\n",
    "for i in range(0, 10, 2):\n",
    "    sol.append(piecewise_cyc(i/10, (i+2)/10))\n",
    "for i in range(0, 5):\n",
    "    print((i*2+1)/10,(i*2+1)/10)\n",
    "    print(cyc_function((i*2+1)/10), sol[i][0]*(i*2+1)/10+sol[i][1])\n",
    "    print((i*2+2)/10,(i*2+2)/10)\n",
    "    print(cyc_function((i*2+2)/10), sol[i][0]*(i*2+2)/10+sol[i][1])\n",
    "sol"
   ]
  },
  {
   "cell_type": "code",
   "execution_count": 41,
   "metadata": {},
   "outputs": [],
   "source": [
    "import math\n",
    "DoD_par = [140000, -0.501, -123000]\n",
    "SoC_par = [1.04, 0.5]\n",
    "Tem_par = [0.0693, 25]\n",
    "Time_par = [4.14*(10**-10)]\n",
    "def cycle_degradation(DoD, SoC, Tem):\n",
    "    S_DoD = 1/(DoD_par[0]*(DoD**DoD_par[1])+DoD_par[2])\n",
    "    S_SoC = math.exp(SoC_par[0]*(SoC-SoC_par[1]))\n",
    "    S_Tem = math.exp(Tem_par[0]*(Tem-Tem_par[1])*Tem_par[1]/Tem)\n",
    "\n",
    "    cyc_aging = S_DoD*S_SoC*S_Tem\n",
    "    \n",
    "    return cyc_aging\n",
    "\n",
    "def calendar_degradation(SoC, Tem, t):\n",
    "    SoC_par = [1.04, 0.5]\n",
    "    Tem_par = [0.0693, 25]\n",
    "    Time_par = [4.14*(10**-10)]\n",
    "\n",
    "    S_SoC = math.exp(SoC_par[0]*(SoC-SoC_par[1]))\n",
    "    S_Tem = math.exp(Tem_par[0]*(Tem-Tem_par[1])*Tem_par[1]/Tem)\n",
    "    S_Time = Time_par[0]*t\n",
    "\n",
    "    cal_aging = S_Time*S_SoC*S_Tem\n",
    "    \n",
    "    return cal_aging"
   ]
  },
  {
   "cell_type": "code",
   "execution_count": 42,
   "metadata": {},
   "outputs": [
    {
     "data": {
      "text/plain": [
       "0.0174417271124298"
      ]
     },
     "execution_count": 42,
     "metadata": {},
     "output_type": "execute_result"
    }
   ],
   "source": [
    "calendar_degradation(0.6,28,60*60*24*365)"
   ]
  },
  {
   "cell_type": "code",
   "execution_count": 43,
   "metadata": {},
   "outputs": [
    {
     "data": {
      "text/plain": [
       "3.980747227196599e-05"
      ]
     },
     "execution_count": 43,
     "metadata": {},
     "output_type": "execute_result"
    }
   ],
   "source": [
    "cycle_degradation(0.8,0.6,28)"
   ]
  }
 ],
 "metadata": {
  "kernelspec": {
   "display_name": "base",
   "language": "python",
   "name": "python3"
  },
  "language_info": {
   "codemirror_mode": {
    "name": "ipython",
    "version": 3
   },
   "file_extension": ".py",
   "mimetype": "text/x-python",
   "name": "python",
   "nbconvert_exporter": "python",
   "pygments_lexer": "ipython3",
   "version": "3.11.5"
  },
  "orig_nbformat": 4
 },
 "nbformat": 4,
 "nbformat_minor": 2
}
